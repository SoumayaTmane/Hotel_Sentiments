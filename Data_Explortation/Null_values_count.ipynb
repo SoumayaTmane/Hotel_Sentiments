{
 "cells": [
  {
   "cell_type": "code",
   "execution_count": 5,
   "id": "513f0d4c",
   "metadata": {},
   "outputs": [],
   "source": [
    "import numpy as np\n",
    "import pandas as pd\n",
    "import matplotlib.pyplot as plt\n",
    "import seaborn as sns"
   ]
  },
  {
   "cell_type": "code",
   "execution_count": 6,
   "id": "d5adf018",
   "metadata": {},
   "outputs": [],
   "source": [
    "df = pd.read_csv(\"7282_1_dedupe.csv\", sep=',')"
   ]
  },
  {
   "cell_type": "code",
   "execution_count": 7,
   "id": "5fc9fa26",
   "metadata": {},
   "outputs": [
    {
     "name": "stdout",
     "output_type": "stream",
     "text": [
      "-----Missing values in the first 6 columns:----- \n",
      "-------------------------------------------\n",
      "address        0\n",
      "categories     0\n",
      "city           0\n",
      "country        0\n",
      "latitude      86\n",
      "longitude     86\n",
      "dtype: int64\n",
      "\n",
      "-----Missing values in the second 6 columns:----- \n",
      "\n",
      "name                       0\n",
      "postalCode                55\n",
      "province                   0\n",
      "reviews.date             259\n",
      "reviews.dateAdded          0\n",
      "reviews.doRecommend    35908\n",
      "dtype: int64\n",
      "\n",
      "--- Missing values in the last 6 columns: ---\n",
      "reviews.rating            862\n",
      "reviews.text               24\n",
      "reviews.title            1626\n",
      "reviews.userCity        19645\n",
      "reviews.username           43\n",
      "reviews.userProvince    18390\n",
      "dtype: int64\n"
     ]
    }
   ],
   "source": [
    "# --- MARK: Missing values for first 6 columns ---\n",
    "target_features = ['address', 'categories', 'city', 'country', 'latitude', 'longitude']\n",
    "null_counts = df[target_features].isnull().sum()\n",
    "print(\"-----Missing values in the first 6 columns:----- \")\n",
    "print(\"-\" * 43)\n",
    "print(null_counts)\n",
    "\n",
    "# --- MARK: Missing values for first 6 columns ---\n",
    "\n",
    "second_6_cols = df.columns[6:12]\n",
    "missing_counts = df[second_6_cols].isnull().sum()\n",
    "print(\"\\n-----Missing values in the second 6 columns:----- \\n\")\n",
    "print(missing_counts)\n",
    "\n",
    "\n",
    "\n",
    "# --- MARK: Missing values for last 6 columns ---\n",
    "target_features = [\n",
    "    'reviews.rating',\n",
    "    'reviews.text',\n",
    "    'reviews.title',\n",
    "    'reviews.userCity',\n",
    "    'reviews.username',\n",
    "    'reviews.userProvince'\n",
    "]\n",
    "null_counts = df[target_features].isnull().sum()\n",
    "\n",
    "print(\"\\n--- Missing values in the last 6 columns: ---\")\n",
    "print(null_counts)\n"
   ]
  }
 ],
 "metadata": {
  "kernelspec": {
   "display_name": "Python 3",
   "language": "python",
   "name": "python3"
  },
  "language_info": {
   "codemirror_mode": {
    "name": "ipython",
    "version": 3
   },
   "file_extension": ".py",
   "mimetype": "text/x-python",
   "name": "python",
   "nbconvert_exporter": "python",
   "pygments_lexer": "ipython3",
   "version": "3.13.1"
  }
 },
 "nbformat": 4,
 "nbformat_minor": 5
}

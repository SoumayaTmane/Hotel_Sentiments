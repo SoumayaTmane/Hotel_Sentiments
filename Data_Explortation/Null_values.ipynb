{
 "cells": [
  {
   "cell_type": "code",
   "execution_count": 3,
   "id": "513f0d4c",
   "metadata": {},
   "outputs": [],
   "source": [
    "import numpy as np\n",
    "import pandas as pd\n",
    "import matplotlib.pyplot as plt\n",
    "import seaborn as sns"
   ]
  },
  {
   "cell_type": "code",
   "execution_count": 4,
   "id": "d5adf018",
   "metadata": {},
   "outputs": [],
   "source": [
    "df = pd.read_csv(\"7282_1.csv\", sep=',')"
   ]
  },
  {
   "cell_type": "code",
   "execution_count": 12,
   "id": "5fc9fa26",
   "metadata": {},
   "outputs": [
    {
     "name": "stdout",
     "output_type": "stream",
     "text": [
      "Missing values in the first 6 columns: :\n",
      "-------------------------------------------\n",
      "address        0\n",
      "categories     0\n",
      "city           0\n",
      "country        0\n",
      "latitude      86\n",
      "longitude     86\n",
      "dtype: int64\n",
      "Missing values in the second 6 columns: \n",
      "\n",
      "name                       0\n",
      "postalCode                55\n",
      "province                   0\n",
      "reviews.date             259\n",
      "reviews.dateAdded          0\n",
      "reviews.doRecommend    35912\n",
      "dtype: int64\n",
      "\n",
      "--- Missing values in the second 6 columns: ---\n",
      "                      Count  Percentage (%)\n",
      "reviews.rating          862            2.40\n",
      "reviews.text             24            0.07\n",
      "reviews.title          1626            4.53\n",
      "reviews.userCity      19649           54.71\n",
      "reviews.username         43            0.12\n",
      "reviews.userProvince  18394           51.22\n",
      "----------------------------------------------------------\n",
      "\n"
     ]
    }
   ],
   "source": [
    "\n",
    "# 1. Define the list of features to check for null values \n",
    "target_features = ['address', 'categories', 'city', 'country', 'latitude', 'longitude']\n",
    "\n",
    "# 2. Filter the DataFrame to only these columns and count the nulls\n",
    "null_counts = df[target_features].isnull().sum()\n",
    "#3. Percentage of null values\n",
    "\n",
    "# 3. Print  results\n",
    "print(\"Missing values in the first 6 columns: :\")\n",
    "print(\"-\" * 43)\n",
    "print(null_counts)\n",
    "# Additional Task: Count missing values in the second set of 6 columns\n",
    "second_6_cols = df.columns[6:12]\n",
    "\n",
    "missing_counts = df[second_6_cols].isnull().sum()\n",
    "\n",
    "print(\"Missing values in the second 6 columns: \\n\")\n",
    "print(missing_counts)\n",
    "\n",
    "\n",
    "# 1. Define the list of features to check for null values \n",
    "target_features = [\n",
    "    'reviews.rating',\n",
    "    'reviews.text',\n",
    "    'reviews.title',\n",
    "    'reviews.userCity',\n",
    "    'reviews.username',\n",
    "    'reviews.userProvince'\n",
    "]\n",
    "\n",
    "# 2. Calculate missing values for the selected columns\n",
    "null_counts = df[target_features].isnull().sum()\n",
    "null_pct = (df[target_features].isnull().mean() * 100)\n",
    "\n",
    "# 3. Combine the results into a single, clean DataFrame\n",
    "# This gives a concise view of both count and percentage\n",
    "missing_info = pd.DataFrame({\n",
    "    'Count': null_counts,\n",
    "    'Percentage (%)': null_pct.round(2)\n",
    "})\n",
    "\n",
    "# 4. Print results\n",
    "print(\"\\n--- Missing values in the second 6 columns: ---\")\n",
    "print(missing_info)\n",
    "print(\"----------------------------------------------------------\\n\")\n"
   ]
  }
 ],
 "metadata": {
  "kernelspec": {
   "display_name": "base",
   "language": "python",
   "name": "python3"
  },
  "language_info": {
   "codemirror_mode": {
    "name": "ipython",
    "version": 3
   },
   "file_extension": ".py",
   "mimetype": "text/x-python",
   "name": "python",
   "nbconvert_exporter": "python",
   "pygments_lexer": "ipython3",
   "version": "3.12.7"
  }
 },
 "nbformat": 4,
 "nbformat_minor": 5
}
